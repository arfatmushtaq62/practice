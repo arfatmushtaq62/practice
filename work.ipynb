{
  "metadata": {
    "kernelspec": {
      "name": "python",
      "display_name": "Python (Pyodide)",
      "language": "python"
    },
    "language_info": {
      "codemirror_mode": {
        "name": "python",
        "version": 3
      },
      "file_extension": ".py",
      "mimetype": "text/x-python",
      "name": "python",
      "nbconvert_exporter": "python",
      "pygments_lexer": "ipython3",
      "version": "3.8"
    }
  },
  "nbformat_minor": 4,
  "nbformat": 4,
  "cells": [
    {
      "cell_type": "markdown",
      "source": "## This is different headings\n# H1: This is a level 1 Heading\n## H2: This is a level 2 Heading\n### H3: This is a level 3 Heading\n#### H4: This is a level 4 Heading\n##### H5: This is a level 5 Heading\n###### H6: This is a level 6 Heading",
      "metadata": {}
    },
    {
      "cell_type": "markdown",
      "source": "**this is bold**",
      "metadata": {}
    },
    {
      "cell_type": "markdown",
      "source": "_this is italic_",
      "metadata": {}
    },
    {
      "cell_type": "markdown",
      "source": "***this is bold and italic***",
      "metadata": {}
    },
    {
      "cell_type": "markdown",
      "source": "[Google](www.google.com)",
      "metadata": {}
    },
    {
      "cell_type": "markdown",
      "source": "Zoro:![This is zoro](https://wallpaperset.com/w/full/2/e/2/103466.jpg)",
      "metadata": {}
    },
    {
      "cell_type": "markdown",
      "source": "| Country| Capital|\n|--------| -------|\n|USA| Washington DC|\n|India| New Delhi|",
      "metadata": {}
    },
    {
      "cell_type": "markdown",
      "source": "**UNORDERED LIST OF FRUITS**\n- MANGO\n- ORANGE\n- PEACH",
      "metadata": {}
    },
    {
      "cell_type": "markdown",
      "source": "**ORDERED LIST OF FRUITS**\n1. MANGO\n2. APPLE\n3. ORANGE",
      "metadata": {}
    },
    {
      "cell_type": "markdown",
      "source": "## Welcome to Python programming\n**This is SN labs New Launcher**: ![](https://cf-courses-data.s3.us.cloud-object-storage.appdomain.cloud/IBMDeveloperSkillsNetwork-DS0105EN-SkillsNetwork/labs/Labs_V4/images/Launcher.png)\n",
      "metadata": {}
    },
    {
      "cell_type": "markdown",
      "source": "[Tools For Data Science](https://www.coursera.org/learn/open-source-tools-for-data-science/home)",
      "metadata": {}
    },
    {
      "cell_type": "markdown",
      "source": "|FRUITS|QUANTITY(KG)|PRICE(RS)|\n|----|-------|-----|\n|APPLE|2|500|\n|ORANGE|1|200|",
      "metadata": {}
    },
    {
      "cell_type": "code",
      "source": "",
      "metadata": {
        "trusted": true
      },
      "outputs": [],
      "execution_count": null
    }
  ]
}